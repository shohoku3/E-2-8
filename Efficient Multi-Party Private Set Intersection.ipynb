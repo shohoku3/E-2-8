{
 "cells": [
  {
   "cell_type": "code",
   "execution_count": 15,
   "metadata": {},
   "outputs": [
    {
     "output_type": "stream",
     "name": "stdout",
     "text": "The autoreload extension is already loaded. To reload it, use:\n  %reload_ext autoreload\n"
    }
   ],
   "source": [
    "%load_ext autoreload\n",
    "%autoreload 2"
   ]
  },
  {
   "cell_type": "markdown",
   "metadata": {},
   "source": [
    "# Efficient Multi-Party Private Set Intersection\n",
    "\n",
    "### By Malia Kency and John Owens"
   ]
  },
  {
   "cell_type": "code",
   "execution_count": 16,
   "metadata": {},
   "outputs": [],
   "source": [
    "import protocol\n",
    "import helpers\n",
    "import hashes as h\n",
    "import bloom_filter as bf\n",
    "import garbled_bloom_filter as gbf"
   ]
  },
  {
   "cell_type": "code",
   "execution_count": 17,
   "metadata": {},
   "outputs": [],
   "source": [
    "# Parameters:\n",
    "NumPlayers = 3 \n",
    "PlayerInputSize = 20 # 10\n",
    "SecParam = 40\n",
    "bitLength = 128\n",
    "\n",
    "# These parameters are meant for illustration and fast execution\n",
    "# they are not considered secure or optimal\n",
    "Nmaxones = 80 # 40\n",
    "p = 0.3 # 0.25 # Fraction of messages to use for Cut and Choose\n",
    "a = 0.27 # 0.25 # Probability a 1 is chosen by a player\n",
    "disableChecks = False"
   ]
  },
  {
   "cell_type": "code",
   "execution_count": 18,
   "metadata": {},
   "outputs": [
    {
     "output_type": "stream",
     "name": "stdout",
     "text": "\nStarting protocol...\nk = 5\nNot = 667\ngamma = 0\ngammaStar = 1 \n\n\nSimulating players joining protocol. Total: 3\nAt least one intersection will occur at the value: 1489\n\nStep finished\n\n"
    }
   ],
   "source": [
    "# Initialize the protocol by calculating parameters,\n",
    "# creating the players, and generating random inputs\n",
    "# Note: at least 1 shared value is guaranteed\n",
    "Protocol = protocol.new# Initialize the protocol by calculating parameters,\n",
    "# creating the players, and generating random inputs\n",
    "# Note: at least 1 shared value is guaranteed\n",
    "Protocol = protocol.new(NumPlayers, Nmaxones, PlayerInputSize, SecParam, bitLength, p, a, disableChecks)\n",
    "print(\"\\nStarting protocol...\")\n",
    "print(\"k = {}\".format(Protocol.params.k))\n",
    "print(\"Not = {}\".format(Protocol.params.Not))\n",
    "print(\"gamma = {}\".format(Protocol.params.gamma))\n",
    "print(\"gammaStar = {} \\n\".format(Protocol.params.gammaStar))\n",
    "print(\"\\nSimulating players joining protocol. Total: {}\".format(Protocol.params.NumPlayers))\n",
    "\n",
    "print(\"At least one intersection will occur at the value: {}\".format(Protocol.params.shared_random))\n",
    "\n",
    "print(\"\\nStep finished\\n\")"
   ]
  },
  {
   "cell_type": "code",
   "execution_count": 19,
   "metadata": {},
   "outputs": [
    {
     "output_type": "stream",
     "name": "stdout",
     "text": "\nPerforming Random Oblivious Transfer simulation. 667 transfers in total:\n                                                    P0  \\\n0    (P1, Bit: 0, b'&H\\xc9\\xf7\\x936\\xc7\\xec\\x83\\x1c...   \n1    (P1, Bit: 0, b'\\xd5&\\xadW`\\xd2H\\xbe\\x8b\\x1c\\xe...   \n2    (P1, Bit: 0, b'\\x95Mf\\x0c>\\xe6 \\x90\\xc7\\xb0\\x0...   \n3    (P1, Bit: 0, b'F\\x9f\\\\\\xb2\\xd0\\xf5\\xa9\\xcen\\xb...   \n4    (P1, Bit: 0, b'\\xca\\x86\\xe5\\x1c\\xce\\x08\\x9c\\xb...   \n..                                                 ...   \n662  (P1, Bit: 0, b'\\xcf\\xeb@\\xbb\\xe0\\xec\\xa9\\xac\\x...   \n663  (P1, Bit: 0, b'*\\xf6m\\xf3\\xdbs\\xbf\\x17\\xd7~\\x1...   \n664  (P1, Bit: 0, b'b\\xff\\x9d\\xdc\\t\\xe5I\\xc7\\xc3\\x9...   \n665  (P1, Bit: 0, b'\\xb0o\\xeb\\xe3\\xf4\\x0c\\x1a\\xd3$Z...   \n666  (P1, Bit: 0, b'\\x8e\\xa8j$lKl=il\\xb5\\x0c+\\xa2\\x...   \n\n                                                    P0  \\\n0    (P1, Bit: 1, b'\\xa7=v,\\x11\\xecU\\xdf\\xc5y\\xe4f\\...   \n1    (P1, Bit: 1, b'\\x9c\\xfb\\xd4\\xa8\\x17\\x90\\n\\xa5\\...   \n2    (P1, Bit: 1, b'mjH\\x94&L\\x95I\\xcd\\xa2$J\\x05\\xa...   \n3    (P1, Bit: 1, b'oaK\\x9b\\xc1\\x88\\xc1tzOz\\x8a\\xdf...   \n4    (P1, Bit: 1, b'\\xce*\\x97`\\xe0\\xd9\\xd0*\\xb3\\xa0...   \n..                                                 ...   \n662  (P1, Bit: 1, b'\\x15y\\xcaL\\xd0b\\x0b\\xa9d\\xe6?\\x...   \n663  (P1, Bit: 1, b'oenP\\xc9\\x12\\xba\\x81\\xdf\\x01Kv3...   \n664  (P1, Bit: 1, b'\\xe2\\x14-\\xf7\\xb4\\x93\\xb8\\xcfv\\...   \n665  (P1, Bit: 1, b'\\x92}E\\x04$\\t\\nc\\x00\\xd4\\xcb\\xc...   \n666  (P1, Bit: 1, b';\\xd3\\x91\\xc5\\xe2\\xeb\\xde>\\xd9\\...   \n\n                                                    P0  \\\n0    (P2, Bit: 0, b'-`\\xff\\xeb\\xacp\\xc5\\x8a\\xe7+\\x0...   \n1    (P2, Bit: 0, b'\\xef\\xf6\\xa9\\xa5fZ\\x1c\\xba\\x96\\...   \n2    (P2, Bit: 0, b'\\xca-\\x14\\xaa*\\xbf<5\\x7f\\xa5Z\\x...   \n3    (P2, Bit: 0, b';B\\xa2\\xaaaCD\\xef\\x7f\\xc8sx\\xe9...   \n4    (P2, Bit: 0, b'\\xed\\xc8^\\xb6\\x932\\x90\\x04\\xd7\\...   \n..                                                 ...   \n662  (P2, Bit: 0, b'^\\xe2qL\\x82\\xa9\\xd7y\\xf8\\xc7\\xc...   \n663  (P2, Bit: 0, b'\\x99\\x8c\\xd8\\xc4~\\xe1\\x1e\\x00y(...   \n664  (P2, Bit: 0, b'\\xc1\\xf3-\\xf0\\x8d\\xf6\\xba{\\xe8T...   \n665  (P2, Bit: 0, b\"fJr-\\xcaz\\xfcn\\xbd\\xd7\\xa9\\x8e\\...   \n666  (P2, Bit: 0, b'\\x1f1\\xa2\\x97:!\\x8eJ\\x18\\x91x\\x...   \n\n                                                    P0  \\\n0    (P2, Bit: 1, b'\\x1d\\xf0\\xc7m0\\x9eJ\\x9a\\xf8\\xb3...   \n1    (P2, Bit: 1, b'\\xca\\xaf\\x18\\xf8\\x02e\\x9bA\\x03;...   \n2    (P2, Bit: 1, b'Bw\\xaa\\xa8D4\\x90\\xa0X\\x968\\xd4\\...   \n3    (P2, Bit: 1, b'\\x1a\\xcf\\x9a\\x04\\xe6r\\x1c\\xe6Ty...   \n4    (P2, Bit: 1, b'\\xa3h\\x0e\\xd9\\x001\\xc3C\\xd8\\xb3...   \n..                                                 ...   \n662  (P2, Bit: 1, b'#$\\xe2\\x00\\xd5\\xe66\\xc6\\xc0\\x1e...   \n663  (P2, Bit: 1, b'Y\\x86\\xc5\\x0b\\x89\\xe2u\\xe0\\xae\\...   \n664  (P2, Bit: 1, b'{\\xe5C2\\x85\\xc7\\xf7^\\xe8V\\x7f\\\\...   \n665  (P2, Bit: 1, b'\\xef\\x8d\\xc0X\\x91\\x1d\\x83+I\\xc6...   \n666  (P2, Bit: 1, b'\\x8f\\x1cPt\\xa5\\x81D\\xd7\\x97#tY\\...   \n\n                                                    P1  \\\n0    (P1, Bit: 1, b'\\xa7=v,\\x11\\xecU\\xdf\\xc5y\\xe4f\\...   \n1    (P1, Bit: 0, b'\\xd5&\\xadW`\\xd2H\\xbe\\x8b\\x1c\\xe...   \n2    (P1, Bit: 0, b'\\x95Mf\\x0c>\\xe6 \\x90\\xc7\\xb0\\x0...   \n3    (P1, Bit: 0, b'F\\x9f\\\\\\xb2\\xd0\\xf5\\xa9\\xcen\\xb...   \n4    (P1, Bit: 0, b'\\xca\\x86\\xe5\\x1c\\xce\\x08\\x9c\\xb...   \n..                                                 ...   \n662  (P1, Bit: 0, b'\\xcf\\xeb@\\xbb\\xe0\\xec\\xa9\\xac\\x...   \n663  (P1, Bit: 1, b'oenP\\xc9\\x12\\xba\\x81\\xdf\\x01Kv3...   \n664  (P1, Bit: 0, b'b\\xff\\x9d\\xdc\\t\\xe5I\\xc7\\xc3\\x9...   \n665  (P1, Bit: 0, b'\\xb0o\\xeb\\xe3\\xf4\\x0c\\x1a\\xd3$Z...   \n666  (P1, Bit: 0, b'\\x8e\\xa8j$lKl=il\\xb5\\x0c+\\xa2\\x...   \n\n                                                    P2  \n0    (P2, Bit: 0, b'-`\\xff\\xeb\\xacp\\xc5\\x8a\\xe7+\\x0...  \n1    (P2, Bit: 0, b'\\xef\\xf6\\xa9\\xa5fZ\\x1c\\xba\\x96\\...  \n2    (P2, Bit: 0, b'\\xca-\\x14\\xaa*\\xbf<5\\x7f\\xa5Z\\x...  \n3    (P2, Bit: 0, b';B\\xa2\\xaaaCD\\xef\\x7f\\xc8sx\\xe9...  \n4    (P2, Bit: 0, b'\\xed\\xc8^\\xb6\\x932\\x90\\x04\\xd7\\...  \n..                                                 ...  \n662  (P2, Bit: 0, b'^\\xe2qL\\x82\\xa9\\xd7y\\xf8\\xc7\\xc...  \n663  (P2, Bit: 0, b'\\x99\\x8c\\xd8\\xc4~\\xe1\\x1e\\x00y(...  \n664  (P2, Bit: 1, b'{\\xe5C2\\x85\\xc7\\xf7^\\xe8V\\x7f\\\\...  \n665  (P2, Bit: 1, b'\\xef\\x8d\\xc0X\\x91\\x1d\\x83+I\\xc6...  \n666  (P2, Bit: 1, b'\\x8f\\x1cPt\\xa5\\x81D\\xd7\\x97#tY\\...  \n\n[667 rows x 6 columns]\n\nCounting each player's \"1s\":\n\nP0 has 1334 ones. a * Not: 180.09\nP1 has 164 ones. a * Not: 180.09\nP2 has 169 ones. a * Not: 180.09\n\nStep finished\n\n"
    }
   ],
   "source": [
    "# Perform the random oblivious transfer simulation for P0...Pt\n",
    "print(\"\\nPerforming Random Oblivious Transfer simulation. {} transfers in total:\".format(Protocol.params.Not))\n",
    "Protocol.perform_RandomOT()\n",
    "print(Protocol.print_PlayerROTTable())\n",
    "print(\"\\nCounting each player's \\\"1s\\\":\")\n",
    "print(Protocol.print_PlayerMessageStats())\n",
    "print(\"\\nStep finished\\n\")"
   ]
  },
  {
   "cell_type": "code",
   "execution_count": 20,
   "metadata": {},
   "outputs": [
    {
     "output_type": "stream",
     "name": "stdout",
     "text": "Performing Cut and Choose simulation. Size of c: 200. Size of j: 467\n\nStep finished\n\n"
    }
   ],
   "source": [
    "# Perform cut-and-choose simulation for P0...Pt\n",
    "print(\"Performing Cut and Choose simulation. Size of c: {}. Size of j: {}\".format(Protocol.params.C, Protocol.params.Not - Protocol.params.C))\n",
    "Protocol.perform_CutandChoose()\n",
    "print(\"\\nStep finished\\n\")"
   ]
  },
  {
   "cell_type": "code",
   "execution_count": 21,
   "metadata": {},
   "outputs": [
    {
     "output_type": "stream",
     "name": "stdout",
     "text": "Creating Bloom Filters. BF length: 124\n\nStep finished\n\n"
    }
   ],
   "source": [
    "# Create bloom filters for P1...Pt\n",
    "print(\"Creating Bloom Filters. BF length: {}\".format(Protocol.params.Nbf))\n",
    "Protocol.create_BloomFilters()\n",
    "print(\"\\nStep finished\\n\")"
   ]
  },
  {
   "cell_type": "code",
   "execution_count": 22,
   "metadata": {},
   "outputs": [
    {
     "output_type": "stream",
     "name": "stdout",
     "text": "Creating injective functions for every Pi:\n\nPlayer 1's Injective function: \n[3, 2, 1, 4, 0, 5, 15, 17, 19, 20, 21, 22, 24, 23, 18, 25, 37, 36, 44, 46, 45, 47, 43, 42, 41, 40, 48, 39, 38, 49, 35, 34, 33, 51, 50, 32, 31, 56, 55, 59, 61, 60, 62, 58, 68, 70, 69, 67, 66, 65, 71, 79, 80, 83, 85, 87, 88, 86, 84, 82, 81, 78, 77, 104, 103, 106, 116, 118, 121, 140, 139, 138, 137, 141, 136, 150, 149, 155, 154, 159, 160, 162, 173, 174, 176, 183, 190, 201, 204, 203, 209, 215, 214, 225, 224, 223, 226, 228, 227, 222, 232, 244, 249, 248, 247, 252, 254, 257, 268, 267, 266, 265, 264, 263, 269, 274, 275, 277, 276, 273, 272, 279, 278, 271]\nPlayer 2's Injective function: \n[0, 16, 17, 19, 21, 20, 18, 15, 31, 30, 32, 29, 34, 33, 35, 28, 27, 38, 40, 39, 44, 46, 47, 45, 49, 51, 50, 53, 52, 48, 43, 42, 41, 63, 62, 64, 61, 60, 59, 65, 58, 67, 68, 69, 71, 70, 72, 76, 80, 81, 83, 84, 86, 85, 82, 79, 87, 96, 97, 95, 94, 98, 99, 101, 106, 115, 114, 118, 117, 116, 120, 125, 124, 132, 134, 133, 131, 140, 145, 147, 151, 150, 164, 163, 162, 166, 165, 161, 160, 159, 176, 175, 174, 173, 187, 186, 189, 188, 199, 198, 197, 201, 202, 200, 196, 210, 211, 213, 217, 220, 219, 221, 218, 225, 226, 224, 229, 228, 227, 223, 222, 232, 234, 235]\n\nStep finished\n\n"
    }
   ],
   "source": [
    "# Create P1...Pt's injective functions\n",
    "print(\"Creating injective functions for every Pi:\")\n",
    "print(Protocol.create_InjectiveFunctions())\n",
    "print(\"\\nStep finished\\n\")"
   ]
  },
  {
   "cell_type": "code",
   "execution_count": 23,
   "metadata": {},
   "outputs": [
    {
     "output_type": "stream",
     "name": "stdout",
     "text": "\nCreating randomized GBF for every Pi\n\nStep finished\n\n"
    }
   ],
   "source": [
    "print(\"\\nCreating randomized GBF for every Pi\")\n",
    "# Instantiate P0's and P1's rGBF objects\n",
    "Protocol.create_RandomizedGBFs()\n",
    "print(\"\\nStep finished\\n\")"
   ]
  },
  {
   "cell_type": "code",
   "execution_count": 24,
   "metadata": {},
   "outputs": [
    {
     "output_type": "stream",
     "name": "stdout",
     "text": "\nCalculating final output\n\nPlayer 0's rGBF: \n[8070585..., 8053362..., 2065499..., 1155424..., 5559362..., 1917655..., 2744385..., 8479442..., 7573392..., 2743212..., 1814350..., 2367694..., 2374238..., 2938667..., 6276008..., 3066964..., 1697994..., 2668123..., 1124589..., 6903089..., 2768384..., 4870851..., 1081317..., 3362313..., 1039677..., 3153878..., 2477888..., 2096443..., 1227114..., 2280010..., 1917148..., 1075467..., 8919257..., 3068417..., 2785555..., 2048700..., 1353883..., 2623006..., 3061611..., 3953209..., 1973892..., 2327210..., 3756345..., 4924937..., 3155314..., 1152293..., 2050120..., 3201816..., 1766851..., 2671175..., 2501035..., 2506713..., 2189577..., 3006809..., 1451393..., 2070511..., 2002459..., 1659631..., 1350825..., 2291211..., 2271107..., 2708897..., 2781344..., 1321706..., 8961657..., 6387132..., 2185788..., 4436367..., 8083778..., 2312547..., 2713612..., 2145747..., 6997713..., 5928104..., 2117388..., 1411798..., 1254281..., 9659847..., 1132115..., 1331842..., 1533816..., 2039388..., 2897129..., 1069320..., 1896167..., 5654565..., 1014626..., 1839824..., 1133176..., 2199196..., 8358274..., 8848877..., 1893577..., 2163397..., 2901576..., 5433482..., 1728598..., 1657004..., 5473779..., 3142538..., 6320681..., 1498848..., 2895264..., 6683260..., 2079163..., 2991436..., 1226188..., 1526444..., 2069746..., 1790159..., 9220110..., 2436635..., 4320339..., 2132041..., 9815307..., 1862180..., 3138319..., 1352326..., 1654808..., 1204687..., 1157874..., 2427920..., 1316149..., 1559238..., ]\nPlayer 1's rGBF: \n[3319095..., 8053362..., 2065499..., 3902458..., 5559362..., 3004378..., 2865955..., 3010721..., 7573392..., 3100055..., 1814350..., 1154580..., 2374238..., 3086613..., 3204456..., 1522004..., 1143342..., 1751353..., 1124589..., 9517849..., 2743793..., 4870851..., 9762834..., 7768280..., 1306767..., 1715703..., 1838696..., 2447167..., 1378337..., 1316827..., 2446955..., 9448203..., 2237392..., 3068417..., 1704830..., 9497084..., 2323767..., 1916448..., 2627785..., 3953209..., 1722652..., 1873921..., 3756345..., 2419648..., 3155314..., 9207808..., 7885220..., 2011190..., 2501828..., 3238725..., 2501035..., 2506713..., 2189577..., 1575145..., 2299732..., 5182988..., 2002459..., 4455276..., 3320883..., 1193086..., 2654807..., 6502285..., 3038705..., 1321706..., 5739912..., 6387132..., 1616451..., 4436367..., 1489835..., 9800010..., 3687621..., 2556164..., 5439257..., 5928104..., 5917111..., 3189455..., 2229877..., 9659847..., 1908313..., 1331842..., 1533816..., 5459977..., 2897129..., 2561621..., 2689701..., 5654565..., 1532274..., 3079614..., 1818097..., 3937503..., 8358274..., 2039239..., 1350933..., 9954517..., 1799329..., 2936270..., 1728598..., 2037292..., 2941053..., 1859785..., 1413552..., 1498848..., 2895264..., 2555470..., 2626607..., 2991436..., 1226188..., 1526444..., 2069746..., 1452124..., 1421734..., 2867282..., 3958238..., 2128982..., 9815307..., 2605842..., 3138319..., 2764791..., 2605409..., 3064028..., 2919420..., 2427920..., 9826167..., 1021526..., ]\n"
    }
   ],
   "source": [
    "print(\"\\nCalculating final output\")\n",
    "# P0 performs XOR summation on its own j_messages[injective_func] where bit=1\n",
    "# P1 performs XOR summation on all P1...Pt's j_messages[injective_func] where bit = P1...Pt's choice\n",
    "print(Protocol.perform_XORsummation())"
   ]
  },
  {
   "cell_type": "code",
   "execution_count": 25,
   "metadata": {},
   "outputs": [],
   "source": [
    "# P0 calculates summary values for all elements of its input set\n",
    "# P1 calculates summary values for all elements of its input set (Every P1...Pt input values)\n",
    "Protocol.perform_SummaryValues()"
   ]
  },
  {
   "cell_type": "code",
   "execution_count": 26,
   "metadata": {},
   "outputs": [
    {
     "output_type": "stream",
     "name": "stdout",
     "text": "\nPlayer 0's input set: [463, 1489, 625, 914, 457, 423, 810, 1, 727, 731, 938, 386, 831, 301, 341, 847, 730, 316, 402, 92]\nPlayer 1's input set: [241, 72, 85, 116, 772, 213, 437, 93, 808, 283, 902, 895, 552, 440, 797, 415, 105, 1489, 721, 419]\nPlayer 2's input set: [591, 526, 6, 973, 544, 554, 1489, 320, 521, 668, 410, 331, 991, 481, 835, 738, 528, 579, 802, 104]\n\nPlayer 0's summary values: [7415782..., 7795798..., 1792346..., 4011586..., 1131622..., 1041854..., 7430348..., 2526479..., 1737198..., 7416204..., 7844127..., 6312032..., 2112569..., 7558281..., 7500949..., 7816492..., 1578439..., 4883320..., 2988178..., 1107077..., ]\nPlayer 1's summary values: [3128330..., 6779956..., 9983456..., 2452047..., 4357920..., 4501362..., 4767376..., 6919415..., 4176583..., 7455261..., 7282538..., 6153796..., 9090838..., 1819325..., 8994803..., 9552678..., 1502025..., 7795798..., 3614678..., 7741396..., ]\n\nIntersections found at these values: [1489]\nGuaranteed intersection value was: 1489\n\n\nStep finished\n\n"
    }
   ],
   "source": [
    "# P1 receives P0s summary values, compares them to its own\n",
    "# Intersections are recorded and output\n",
    "Protocol.perform_Output()# P1 receives P0s summary values, compares them to its own\n",
    "# Intersections are recorded and output\n",
    "input_sets, intersections = Protocol.perform_Output()\n",
    "print(input_sets)\n",
    "print(intersections)\n",
    "print(\"\\nStep finished\\n\")"
   ]
  }
 ],
 "metadata": {
  "kernelspec": {
   "display_name": "Python 3",
   "language": "python",
   "name": "python3"
  },
  "language_info": {
   "codemirror_mode": {
    "name": "ipython",
    "version": 3
   },
   "file_extension": ".py",
   "mimetype": "text/x-python",
   "name": "python",
   "nbconvert_exporter": "python",
   "pygments_lexer": "ipython3",
   "version": "3.7.6-final"
  }
 },
 "nbformat": 4,
 "nbformat_minor": 4
}